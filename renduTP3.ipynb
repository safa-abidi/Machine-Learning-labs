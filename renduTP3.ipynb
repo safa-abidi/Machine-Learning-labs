{
  "metadata": {
    "language_info": {
      "codemirror_mode": {
        "name": "python",
        "version": 3
      },
      "file_extension": ".py",
      "mimetype": "text/x-python",
      "name": "python",
      "nbconvert_exporter": "python",
      "pygments_lexer": "ipython3",
      "version": "3.8"
    },
    "kernelspec": {
      "name": "python",
      "display_name": "Python (Pyodide)",
      "language": "python"
    }
  },
  "nbformat_minor": 4,
  "nbformat": 4,
  "cells": [
    {
      "cell_type": "markdown",
      "source": "# I-Jeux de données:",
      "metadata": {}
    },
    {
      "cell_type": "markdown",
      "source": "## 1-Iris:",
      "metadata": {}
    },
    {
      "cell_type": "code",
      "source": "# Importing all datasets\nfrom sklearn import datasets\n# Getting the Iris dataset from datasets package imported\nirisData = datasets.load_iris()\n# Printing the data and targets\nprint(irisData.data)\nprint(irisData.target)",
      "metadata": {
        "trusted": true
      },
      "execution_count": 1,
      "outputs": [
        {
          "name": "stdout",
          "text": "[[5.1 3.5 1.4 0.2]\n [4.9 3.  1.4 0.2]\n [4.7 3.2 1.3 0.2]\n [4.6 3.1 1.5 0.2]\n [5.  3.6 1.4 0.2]\n [5.4 3.9 1.7 0.4]\n [4.6 3.4 1.4 0.3]\n [5.  3.4 1.5 0.2]\n [4.4 2.9 1.4 0.2]\n [4.9 3.1 1.5 0.1]\n [5.4 3.7 1.5 0.2]\n [4.8 3.4 1.6 0.2]\n [4.8 3.  1.4 0.1]\n [4.3 3.  1.1 0.1]\n [5.8 4.  1.2 0.2]\n [5.7 4.4 1.5 0.4]\n [5.4 3.9 1.3 0.4]\n [5.1 3.5 1.4 0.3]\n [5.7 3.8 1.7 0.3]\n [5.1 3.8 1.5 0.3]\n [5.4 3.4 1.7 0.2]\n [5.1 3.7 1.5 0.4]\n [4.6 3.6 1.  0.2]\n [5.1 3.3 1.7 0.5]\n [4.8 3.4 1.9 0.2]\n [5.  3.  1.6 0.2]\n [5.  3.4 1.6 0.4]\n [5.2 3.5 1.5 0.2]\n [5.2 3.4 1.4 0.2]\n [4.7 3.2 1.6 0.2]\n [4.8 3.1 1.6 0.2]\n [5.4 3.4 1.5 0.4]\n [5.2 4.1 1.5 0.1]\n [5.5 4.2 1.4 0.2]\n [4.9 3.1 1.5 0.2]\n [5.  3.2 1.2 0.2]\n [5.5 3.5 1.3 0.2]\n [4.9 3.6 1.4 0.1]\n [4.4 3.  1.3 0.2]\n [5.1 3.4 1.5 0.2]\n [5.  3.5 1.3 0.3]\n [4.5 2.3 1.3 0.3]\n [4.4 3.2 1.3 0.2]\n [5.  3.5 1.6 0.6]\n [5.1 3.8 1.9 0.4]\n [4.8 3.  1.4 0.3]\n [5.1 3.8 1.6 0.2]\n [4.6 3.2 1.4 0.2]\n [5.3 3.7 1.5 0.2]\n [5.  3.3 1.4 0.2]\n [7.  3.2 4.7 1.4]\n [6.4 3.2 4.5 1.5]\n [6.9 3.1 4.9 1.5]\n [5.5 2.3 4.  1.3]\n [6.5 2.8 4.6 1.5]\n [5.7 2.8 4.5 1.3]\n [6.3 3.3 4.7 1.6]\n [4.9 2.4 3.3 1. ]\n [6.6 2.9 4.6 1.3]\n [5.2 2.7 3.9 1.4]\n [5.  2.  3.5 1. ]\n [5.9 3.  4.2 1.5]\n [6.  2.2 4.  1. ]\n [6.1 2.9 4.7 1.4]\n [5.6 2.9 3.6 1.3]\n [6.7 3.1 4.4 1.4]\n [5.6 3.  4.5 1.5]\n [5.8 2.7 4.1 1. ]\n [6.2 2.2 4.5 1.5]\n [5.6 2.5 3.9 1.1]\n [5.9 3.2 4.8 1.8]\n [6.1 2.8 4.  1.3]\n [6.3 2.5 4.9 1.5]\n [6.1 2.8 4.7 1.2]\n [6.4 2.9 4.3 1.3]\n [6.6 3.  4.4 1.4]\n [6.8 2.8 4.8 1.4]\n [6.7 3.  5.  1.7]\n [6.  2.9 4.5 1.5]\n [5.7 2.6 3.5 1. ]\n [5.5 2.4 3.8 1.1]\n [5.5 2.4 3.7 1. ]\n [5.8 2.7 3.9 1.2]\n [6.  2.7 5.1 1.6]\n [5.4 3.  4.5 1.5]\n [6.  3.4 4.5 1.6]\n [6.7 3.1 4.7 1.5]\n [6.3 2.3 4.4 1.3]\n [5.6 3.  4.1 1.3]\n [5.5 2.5 4.  1.3]\n [5.5 2.6 4.4 1.2]\n [6.1 3.  4.6 1.4]\n [5.8 2.6 4.  1.2]\n [5.  2.3 3.3 1. ]\n [5.6 2.7 4.2 1.3]\n [5.7 3.  4.2 1.2]\n [5.7 2.9 4.2 1.3]\n [6.2 2.9 4.3 1.3]\n [5.1 2.5 3.  1.1]\n [5.7 2.8 4.1 1.3]\n [6.3 3.3 6.  2.5]\n [5.8 2.7 5.1 1.9]\n [7.1 3.  5.9 2.1]\n [6.3 2.9 5.6 1.8]\n [6.5 3.  5.8 2.2]\n [7.6 3.  6.6 2.1]\n [4.9 2.5 4.5 1.7]\n [7.3 2.9 6.3 1.8]\n [6.7 2.5 5.8 1.8]\n [7.2 3.6 6.1 2.5]\n [6.5 3.2 5.1 2. ]\n [6.4 2.7 5.3 1.9]\n [6.8 3.  5.5 2.1]\n [5.7 2.5 5.  2. ]\n [5.8 2.8 5.1 2.4]\n [6.4 3.2 5.3 2.3]\n [6.5 3.  5.5 1.8]\n [7.7 3.8 6.7 2.2]\n [7.7 2.6 6.9 2.3]\n [6.  2.2 5.  1.5]\n [6.9 3.2 5.7 2.3]\n [5.6 2.8 4.9 2. ]\n [7.7 2.8 6.7 2. ]\n [6.3 2.7 4.9 1.8]\n [6.7 3.3 5.7 2.1]\n [7.2 3.2 6.  1.8]\n [6.2 2.8 4.8 1.8]\n [6.1 3.  4.9 1.8]\n [6.4 2.8 5.6 2.1]\n [7.2 3.  5.8 1.6]\n [7.4 2.8 6.1 1.9]\n [7.9 3.8 6.4 2. ]\n [6.4 2.8 5.6 2.2]\n [6.3 2.8 5.1 1.5]\n [6.1 2.6 5.6 1.4]\n [7.7 3.  6.1 2.3]\n [6.3 3.4 5.6 2.4]\n [6.4 3.1 5.5 1.8]\n [6.  3.  4.8 1.8]\n [6.9 3.1 5.4 2.1]\n [6.7 3.1 5.6 2.4]\n [6.9 3.1 5.1 2.3]\n [5.8 2.7 5.1 1.9]\n [6.8 3.2 5.9 2.3]\n [6.7 3.3 5.7 2.5]\n [6.7 3.  5.2 2.3]\n [6.3 2.5 5.  1.9]\n [6.5 3.  5.2 2. ]\n [6.2 3.4 5.4 2.3]\n [5.9 3.  5.1 1.8]]\n[0 0 0 0 0 0 0 0 0 0 0 0 0 0 0 0 0 0 0 0 0 0 0 0 0 0 0 0 0 0 0 0 0 0 0 0 0\n 0 0 0 0 0 0 0 0 0 0 0 0 0 1 1 1 1 1 1 1 1 1 1 1 1 1 1 1 1 1 1 1 1 1 1 1 1\n 1 1 1 1 1 1 1 1 1 1 1 1 1 1 1 1 1 1 1 1 1 1 1 1 1 1 2 2 2 2 2 2 2 2 2 2 2\n 2 2 2 2 2 2 2 2 2 2 2 2 2 2 2 2 2 2 2 2 2 2 2 2 2 2 2 2 2 2 2 2 2 2 2 2 2\n 2 2]\n",
          "output_type": "stream"
        }
      ]
    },
    {
      "cell_type": "markdown",
      "source": "## 2-Questions:",
      "metadata": {}
    },
    {
      "cell_type": "markdown",
      "source": "#### a. On a 150 instances de 4 attributs et 3 classes dont chacune comporte 50 instances.",
      "metadata": {}
    },
    {
      "cell_type": "code",
      "source": "# Affichage du nombre d'instances et nombre d'attributs\nprint(irisData.data.shape)\nfrom collections import Counter\n# La répartition des instances\nCounter(irisData.target)",
      "metadata": {
        "trusted": true
      },
      "execution_count": 3,
      "outputs": [
        {
          "name": "stdout",
          "text": "(150, 4)\n",
          "output_type": "stream"
        },
        {
          "execution_count": 3,
          "output_type": "execute_result",
          "data": {
            "text/plain": "Counter({0: 50, 1: 50, 2: 50})"
          },
          "metadata": {}
        }
      ]
    },
    {
      "cell_type": "markdown",
      "source": "#### Les valeurs des attributs et la classe du 32éme instance",
      "metadata": {}
    },
    {
      "cell_type": "code",
      "source": "print(irisData.data[31])\nprint(irisData.target[31])",
      "metadata": {
        "trusted": true
      },
      "execution_count": 4,
      "outputs": [
        {
          "name": "stdout",
          "text": "[5.4 3.4 1.5 0.4]\n0\n",
          "output_type": "stream"
        }
      ]
    },
    {
      "cell_type": "markdown",
      "source": "#### b. Représentation graphique de la distribution des instances dans le dataset.",
      "metadata": {}
    },
    {
      "cell_type": "code",
      "source": "import matplotlib #pour visualier des graphiques\nimport pylab as pl\nfrom itertools import cycle\ndef plot_2D(data, target, target_names):\n    colors = cycle('rgbcmykw') # cycle de couleurs\n    target_ids = range(len(target_names))\n    pl.figure()\n    for i, c, label in zip(target_ids, colors, target_names): #ft pour utiliser plusieurs compteurs à la fois\n        pl.scatter(data[target == i, 0], data[target == i, 1], c=c, label=label) #selon sepal length & sepal width (les axes) (bad representation)\n    pl.legend()\n    pl.show()\nplot_2D(irisData.data, irisData.target, irisData.target_names)",
      "metadata": {
        "trusted": true
      },
      "execution_count": 10,
      "outputs": [
        {
          "output_type": "display_data",
          "data": {
            "text/plain": "<pyolite.display.Image at 0x463e448>",
            "image/png": "[encoded data removed]"
          },
          "metadata": {}
        }
      ]
    },
    {
      "cell_type": "markdown",
      "source": "##### Initialement , en choissisant les attributs sepal_length et sepal_width pour la représentation de distribution , on a obtenu un nuage qui nous ne permet pas de distinguer facilement les classes de chaque instance (à savoir verginica et versicolor).",
      "metadata": {}
    },
    {
      "cell_type": "markdown",
      "source": "#### c. En choissisant par contre une représentation avec les attributs petal_length et petal_length , on peut distinguer graphiquement les classes plus facilement. On dit que ces attributs sont plus optimal pour des algorithmes de classification plus performants.  ",
      "metadata": {}
    },
    {
      "cell_type": "code",
      "source": "import matplotlib #pour visualier des graphiques\nimport pylab as pl\nfrom itertools import cycle\ndef plot_2D(data, target, target_names):\n    colors = cycle('rgbcmykw') # cycle de couleurs\n    target_ids = range(len(target_names))\n    pl.figure()\n    for i, c, label in zip(target_ids, colors, target_names): #ft pour utiliser plusieurs compteurs à la fois\n        pl.scatter(data[target == i, 2], data[target == i, 3], c=c, label=label) #selon sepal length & sepal width (les axes) (bad representation)\n    pl.legend()\n    pl.plot([2.5,2.5],[0,3])\n    pl.show()\nplot_2D(irisData.data, irisData.target, irisData.target_names)",
      "metadata": {
        "trusted": true
      },
      "execution_count": 12,
      "outputs": [
        {
          "output_type": "display_data",
          "data": {
            "text/plain": "<pyolite.display.Image at 0x4f1eeb0>",
            "image/png": "[encoded data removed]"
          },
          "metadata": {}
        }
      ]
    },
    {
      "cell_type": "markdown",
      "source": "## II- Un premier apprentissage de classiffieur :",
      "metadata": {}
    },
    {
      "cell_type": "markdown",
      "source": "### 1.La variable clf:",
      "metadata": {}
    },
    {
      "cell_type": "code",
      "source": "# Importation des classifieurs de Decision Tree et \n# Naive-Bayes et récupération de leurs variables clf\nfrom sklearn import naive_bayes\nfrom sklearn.tree import DecisionTreeClassifier\nclf_naive = naive_bayes.MultinomialNB(fit_prior=True)  # Learning algorithm\nclf_tree = DecisionTreeClassifier(random_state=0)",
      "metadata": {
        "trusted": true
      },
      "execution_count": 13,
      "outputs": []
    },
    {
      "cell_type": "markdown",
      "source": "### 2.A vous:",
      "metadata": {}
    },
    {
      "cell_type": "markdown",
      "source": "#### a. Apprentissage et prédiction",
      "metadata": {}
    },
    {
      "cell_type": "code",
      "source": "# Apprentissage de deux modèles de classification à partir de\n# données du dataset Iris\n# array[a:b] => recupération de sous array a partir de\n# l'indice a jusqu'a l'indice b exclusif\nclf_naive.fit(irisData.data[:-1], irisData.target[:-1])\nclf_tree.fit(irisData.data[:-1], irisData.target[:-1])\n# Prédiction de la classe de la 32éme instance ainsi que la\n# dernière instance du dataset avec les modèles appris\np31_naive = clf_naive.predict([irisData.data[31]])\np31_tree = clf_tree.predict([irisData.data[31]])\nplast_naive = clf_naive.predict([irisData.data[-1]])\nplast_tree = clf_tree.predict([irisData.data[-1]])\np_naive = clf_naive.predict(irisData.data[:])\np_tree = clf_tree.predict(irisData.data[:])\nprint(p31_naive)\nprint(p31_tree)\nprint(plast_naive)\nprint(plast_tree)\nprint(p_naive)\nprint(p_tree)",
      "metadata": {
        "trusted": true
      },
      "execution_count": 17,
      "outputs": [
        {
          "name": "stdout",
          "text": "[0]\n[0]\n[2]\n[2]\n[0 0 0 0 0 0 0 0 0 0 0 0 0 0 0 0 0 0 0 0 0 0 0 0 0 0 0 0 0 0 0 0 0 0 0 0 0\n 0 0 0 0 0 0 0 0 0 0 0 0 0 1 1 1 1 1 1 1 1 1 1 1 1 1 1 1 1 1 1 1 1 1 1 1 1\n 1 1 1 1 1 1 1 1 1 2 1 1 1 1 1 1 1 1 1 1 1 1 1 1 1 1 2 2 2 2 2 2 2 2 2 2 2\n 2 2 2 2 2 2 2 2 2 2 2 2 2 2 1 2 2 2 1 2 1 2 1 2 2 2 2 2 2 2 2 2 2 2 2 2 2\n 2 2]\n[0 0 0 0 0 0 0 0 0 0 0 0 0 0 0 0 0 0 0 0 0 0 0 0 0 0 0 0 0 0 0 0 0 0 0 0 0\n 0 0 0 0 0 0 0 0 0 0 0 0 0 1 1 1 1 1 1 1 1 1 1 1 1 1 1 1 1 1 1 1 1 1 1 1 1\n 1 1 1 1 1 1 1 1 1 1 1 1 1 1 1 1 1 1 1 1 1 1 1 1 1 1 2 2 2 2 2 2 2 2 2 2 2\n 2 2 2 2 2 2 2 2 2 2 2 2 2 2 2 2 2 2 2 2 2 2 2 2 2 2 2 2 2 2 2 2 2 2 2 2 2\n 2 2]\n",
          "output_type": "stream"
        }
      ]
    },
    {
      "cell_type": "markdown",
      "source": "##### Dans la prédiction par le modèle de Naive-Bayes, on remarque une confusion dans certaines instances de classes 1 et 2.\n##### Le modèle de Decision Tree affecte une meilleure prédiction dans cet exemple.",
      "metadata": {}
    },
    {
      "cell_type": "markdown",
      "source": "#### b.Apprentissage avec 2/3 , prédiction avec 1/3 du dataset.",
      "metadata": {}
    },
    {
      "cell_type": "code",
      "source": "clf_naive_new = naive_bayes.MultinomialNB(fit_prior=True)\nclf_tree_new = DecisionTreeClassifier(random_state=0)\nclf_naive_new.fit(irisData.data[:99], irisData.target[:99])\nclf_tree_new.fit(irisData.data[:99], irisData.target[:99])\np_naive_new = clf_naive_new.predict(irisData.data[100:149])\np_tree_new = clf_tree_new.predict(irisData.data[100:149])\nprint(p_naive_new)\nprint(p_tree_new)",
      "metadata": {
        "trusted": true
      },
      "execution_count": 21,
      "outputs": [
        {
          "name": "stdout",
          "text": "[1 1 1 1 1 1 1 1 1 1 1 1 1 1 1 1 1 1 1 1 1 1 1 1 1 1 1 1 1 1 1 1 1 1 1 1 1\n 1 1 1 1 1 1 1 1 1 1 1 1]\n[1 1 1 1 1 1 1 1 1 1 1 1 1 1 1 1 1 1 1 1 1 1 1 1 1 1 1 1 1 1 1 1 1 1 1 1 1\n 1 1 1 1 1 1 1 1 1 1 1 1]\n",
          "output_type": "stream"
        }
      ]
    },
    {
      "cell_type": "markdown",
      "source": "##### On remarque que les modèles ont prédit les 50 instances ayant classe 2 comme classe 1.Cela est dû au fait que l'apprentissage est éffectué sur les 100 instances de 2 premières classes.",
      "metadata": {}
    },
    {
      "cell_type": "markdown",
      "source": "## III- Evaluation des performances:",
      "metadata": {}
    },
    {
      "cell_type": "markdown",
      "source": "### 1.Performances sur l'ensemble d'apprentissage:",
      "metadata": {}
    },
    {
      "cell_type": "markdown",
      "source": "#### 1.Méthode 1: Taux d'erreur:",
      "metadata": {}
    },
    {
      "cell_type": "code",
      "source": "ea_naive = 0\nea_tree = 0\nY = irisData.target\nfor i in range(len(irisData.data)):\n    if (p_naive[i] != Y[i]):\n        ea_naive = ea_naive+1\n    if (p_tree[i] != Y[i]):\n        ea_tree = ea_tree+1\nprint(\"Taux d'erreur Naive-Bayes : \",ea_naive/len(irisData.data))\nprint(\"Taux d'erreur Decision Tree : \",ea_tree/len(irisData.data))",
      "metadata": {
        "trusted": true
      },
      "execution_count": 24,
      "outputs": [
        {
          "name": "stdout",
          "text": "Taux d'erreur Naive-Bayes :  0.03333333333333333\nTaux d'erreur Decision Tree :  0.0\n",
          "output_type": "stream"
        }
      ]
    },
    {
      "cell_type": "markdown",
      "source": "##### Decision Tree a une prédiction parfaite.",
      "metadata": {}
    },
    {
      "cell_type": "markdown",
      "source": "#### 2.Méthode 2: En une suele instruction !!",
      "metadata": {}
    },
    {
      "cell_type": "code",
      "source": "import numpy as np\n# Taux d'erreur\nprint(\"Taux d'erreur Naive-Bayes : \",np.count_nonzero(p_naive-irisData.target)/len(irisData.target))\nprint(\"Taux d'erreur Decision Tree : \",np.count_nonzero(p_tree-irisData.target)/len(irisData.target))\n# Number of wrongly classified\nprint(\"Nombres d'instances mal classifiées Naive-Bayes : \",np.count_nonzero(p_naive-irisData.target))\nprint(\"Nombres d'instances mal classifiées Decision Tree : \",np.count_nonzero(p_tree-irisData.target))",
      "metadata": {
        "trusted": true
      },
      "execution_count": 26,
      "outputs": [
        {
          "name": "stdout",
          "text": "Taux d'erreur Naive-Bayes :  0.03333333333333333\nTaux d'erreur Decision Tree :  0.0\nNombres d'instances mal classifiées Naive-Bayes :  5\nNombres d'instances mal classifiées Decision Tree :  0\n",
          "output_type": "stream"
        }
      ]
    },
    {
      "cell_type": "markdown",
      "source": "#### 3.Méthode 3: Accuracy:",
      "metadata": {}
    },
    {
      "cell_type": "code",
      "source": "print(\"Taux d'erreur Naive-Bayes :\",1-clf_naive.score(irisData.data, irisData.target))\nprint(\"Taux d'erreur Decision Tree :\",1-clf_tree.score(irisData.data, irisData.target))",
      "metadata": {
        "trusted": true
      },
      "execution_count": 29,
      "outputs": [
        {
          "name": "stdout",
          "text": "Taux d'erreur Naive-Bayes : 0.033333333333333326\nTaux d'erreur Decision Tree : 0.0\n",
          "output_type": "stream"
        }
      ]
    },
    {
      "cell_type": "markdown",
      "source": "### 2.Performances en généralisation:",
      "metadata": {}
    },
    {
      "cell_type": "markdown",
      "source": "#### 2.1.Estimer l'erreur réelle par division de l'échantillon d'apprentissage:",
      "metadata": {}
    },
    {
      "cell_type": "markdown",
      "source": "##### a.La méthode split(S):",
      "metadata": {}
    },
    {
      "cell_type": "code",
      "source": "def split(s,percentage):\n    x = s.data\n    y = s.target\n    rand_dist = np.random.rand(len(x)) < percentage \n    dataS1= x[rand_dist]\n    targetS1= y[rand_dist]\n    dataS2= x[~rand_dist]\n    targetS2= y[~rand_dist]\n    return [dataS1, targetS1, dataS2, targetS2]",
      "metadata": {
        "trusted": true
      },
      "execution_count": 63,
      "outputs": []
    },
    {
      "cell_type": "markdown",
      "source": "##### b.La méthode test(S,clf):",
      "metadata": {}
    },
    {
      "cell_type": "code",
      "source": "def test(s,clf,percentage):\n    x_train,y_train,x_test,y_test = split(s,percentage)\n    clf.fit(x_train,y_train)\n    predicted = clf.predict(x_test)\n    return(1-clf.score(x_test,y_test))",
      "metadata": {
        "trusted": true
      },
      "execution_count": 64,
      "outputs": []
    },
    {
      "cell_type": "markdown",
      "source": "##### Appel de fonction test sur notre modèles",
      "metadata": {}
    },
    {
      "cell_type": "code",
      "source": "print(\"Taux d'erreur Naive-Bayes :\",test(irisData,clf_naive,2/3))\nprint(\"Taux d'erreur Decision Tree :\",test(irisData,clf_tree,2/3))",
      "metadata": {
        "trusted": true
      },
      "execution_count": 65,
      "outputs": [
        {
          "name": "stdout",
          "text": "Taux d'erreur Naive-Bayes : 0.375\nTaux d'erreur Decision Tree : 0.04347826086956519\n",
          "output_type": "stream"
        }
      ]
    },
    {
      "cell_type": "markdown",
      "source": "##### c.:",
      "metadata": {}
    },
    {
      "cell_type": "code",
      "source": "def test_split(t,percentage):\n    e_naive = 0.0\n    e_tree = 0.0\n    for i in range(0,t):\n        e_naive += test(irisData,clf_naive,percentage)\n        e_tree += test(irisData,clf_tree,percentage)\n    return [e_naive/t,e_tree/t] \nprint(test_split(10,2/3))\nprint(test_split(50,2/3))\nprint(test_split(100,2/3))\nprint(test_split(200,2/3))\nprint(test_split(500,2/3))\nprint(test_split(1000,2/3))",
      "metadata": {
        "trusted": true
      },
      "execution_count": 67,
      "outputs": [
        {
          "name": "stdout",
          "text": "[0.23788355641584208, 0.0633525587185901]\n[0.2139695138250145, 0.05567414994564501]\n[0.22199249062013657, 0.054574776408708586]\n[0.21498124886959746, 0.053973228919314165]\n[0.2016532821180806, 0.05518845394566358]\n[0.19855070530928026, 0.05656444366382153]\n",
          "output_type": "stream"
        }
      ]
    },
    {
      "cell_type": "code",
      "source": "def test_split_iter(sequence,it,percentage):\n    ei_naive = 0.0\n    ei_tree = 0.0\n    for i in range(0,it):\n        s = [0.0] * len(sequence)\n        for k in range(0,len(sequence)):\n            s[k] = test_split(sequence[k],percentage)\n        smoy_naive = 0.0\n        smoy_tree = 0.0\n        for k in range(0,len(sequence)):\n            smoy_naive += s[k][0]/len(sequence)\n            smoy_tree += s[k][1]/len(sequence)\n        ei_naive += smoy_naive\n        ei_tree += smoy_tree\n    return [ei_naive/it,ei_tree/it]       ",
      "metadata": {
        "trusted": true
      },
      "execution_count": 68,
      "outputs": []
    },
    {
      "cell_type": "code",
      "source": "# Appel de test_split_iter avec sequence=10,50,100,200,500,1000 et it=20\nprint(test_split_iter([10,50,100,200,500,1000],20,2/3))",
      "metadata": {
        "trusted": true
      },
      "execution_count": 69,
      "outputs": [
        {
          "name": "stdout",
          "text": "[0.20052969553732644, 0.056373704015464834]\n",
          "output_type": "stream"
        }
      ]
    },
    {
      "cell_type": "code",
      "source": "print(test_split_iter([10,50,100,200,500,1000],20,9/10))",
      "metadata": {
        "trusted": true
      },
      "execution_count": 70,
      "outputs": [
        {
          "name": "stdout",
          "text": "[0.12087159555290634, 0.052366168907365486]\n",
          "output_type": "stream"
        }
      ]
    },
    {
      "cell_type": "markdown",
      "source": "##### f.Avec train_test_split:",
      "metadata": {}
    },
    {
      "cell_type": "code",
      "source": "# Avec train_test_split\nfrom sklearn.model_selection import train_test_split\nx_train,x_test, y_train, y_test  = train_test_split(irisData.data, irisData.target, test_size= 0.33)\nclf_naive.fit(x_train,y_train)\npredicted = clf_naive.predict(x_test)\nprint(\"Taux d'erreur Naive-Bayes 0.33 :\",1-clf_naive.score(irisData.data, irisData.target))\nx_train,x_test, y_train, y_test  = train_test_split(irisData.data, irisData.target)\nclf_naive.fit(x_train,y_train)\npredicted = clf_naive.predict(x_test)\nprint(\"Taux d'erreur Naive-Bayes 0.25 :\",1-clf_naive.score(irisData.data, irisData.target))",
      "metadata": {
        "trusted": true
      },
      "execution_count": 72,
      "outputs": [
        {
          "name": "stdout",
          "text": "Taux d'erreur Naive-Bayes 0.33 : 0.21333333333333337\nTaux d'erreur Naive-Bayes 0.25 : 0.33333333333333337\n",
          "output_type": "stream"
        }
      ]
    },
    {
      "cell_type": "code",
      "source": "x_train,x_test, y_train, y_test  = train_test_split(irisData.data, irisData.target, test_size= 0.33)\nclf_tree.fit(x_train,y_train)\npredicted = clf_tree.predict(x_test)\nprint(\"Taux d'erreur Naive-Bayes 0.33 :\",1-clf_naive.score(irisData.data, irisData.target))\nx_train,x_test, y_train, y_test  = train_test_split(irisData.data, irisData.target)\nclf_tree.fit(x_train,y_train)\npredicted = clf_tree.predict(x_test)\nprint(\"Taux d'erreur Naive-Bayes 0.25 :\",1-clf_naive.score(irisData.data, irisData.target))",
      "metadata": {
        "trusted": true
      },
      "execution_count": 73,
      "outputs": [
        {
          "name": "stdout",
          "text": "Taux d'erreur Naive-Bayes 0.33 : 0.33333333333333337\nTaux d'erreur Naive-Bayes 0.25 : 0.33333333333333337\n",
          "output_type": "stream"
        }
      ]
    },
    {
      "cell_type": "markdown",
      "source": "#### 2.2.Cross Validation:",
      "metadata": {}
    },
    {
      "cell_type": "code",
      "source": "from sklearn.model_selection import cross_val_score\ncv_table = (1-cross_val_score(clf_naive,irisData.data,irisData.target,cv=10))\nmoy = 0.0\nfor i in cv_table:\n    moy += i/10\nprint(moy)",
      "metadata": {
        "trusted": true
      },
      "execution_count": 79,
      "outputs": [
        {
          "name": "stdout",
          "text": "0.04666666666666666\n",
          "output_type": "stream"
        }
      ]
    },
    {
      "cell_type": "code",
      "source": "def cv_with_clf_and_folds(clf,folds):\n    cv_table = (1-cross_val_score(clf,irisData.data,irisData.target,cv=folds))\n    moy = 0.0\n    for i in cv_table:\n        moy += i/folds\n    print(\"Cross validation with folds = \",folds,\" : \",moy)\n# Appel avec 2,3,5 et 8 sur Naive-Bayes\ncv_with_clf_and_folds(clf_naive,2)\ncv_with_clf_and_folds(clf_naive,3)\ncv_with_clf_and_folds(clf_naive,5)\ncv_with_clf_and_folds(clf_naive,8)",
      "metadata": {
        "trusted": true
      },
      "execution_count": 84,
      "outputs": [
        {
          "name": "stdout",
          "text": "Cross validation with folds =  2  :  0.04666666666666669\nCross validation with folds =  3  :  0.053333333333333344\nCross validation with folds =  5  :  0.04666666666666666\nCross validation with folds =  8  :  0.05263157894736843\n",
          "output_type": "stream"
        }
      ]
    },
    {
      "cell_type": "code",
      "source": "# Appel avec 2,3,5,8 et 10 sur Decision Tree\ncv_with_clf_and_folds(clf_tree,2)\ncv_with_clf_and_folds(clf_tree,3)\ncv_with_clf_and_folds(clf_tree,5)\ncv_with_clf_and_folds(clf_tree,8)\ncv_with_clf_and_folds(clf_tree,10)",
      "metadata": {
        "trusted": true
      },
      "execution_count": 85,
      "outputs": [
        {
          "name": "stdout",
          "text": "Cross validation with folds =  2  :  0.04666666666666669\nCross validation with folds =  3  :  0.03333333333333336\nCross validation with folds =  5  :  0.039999999999999994\nCross validation with folds =  8  :  0.03947368421052633\nCross validation with folds =  10  :  0.039999999999999994\n",
          "output_type": "stream"
        }
      ]
    },
    {
      "cell_type": "markdown",
      "source": "# Tableau des erreurs :",
      "metadata": {}
    },
    {
      "cell_type": "markdown",
      "source": "| Modèle de Classification | Taux d'erreur | Test Split | Cross Validation |\n| --- | --- | --- | --- |\n| Naive-Bayes | 0.033333 | 0.12087159555290634 |0.04666666666666666|\n| Decision Tree | 0.000000 | 0.052366168907365486 |0.03333333333333336|",
      "metadata": {}
    }
  ]
}